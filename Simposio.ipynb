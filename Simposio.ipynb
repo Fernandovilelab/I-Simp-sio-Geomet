{
  "cells": [
    {
      "cell_type": "code",
      "execution_count": null,
      "id": "1b1b8cd4",
      "metadata": {
        "id": "1b1b8cd4"
      },
      "outputs": [],
      "source": [
        "!pip install cffi==1.15.1\n",
        "!pip install mip\n",
        "!pip install gurobipy\n",
        "\n",
        "import numpy as np\n",
        "import pandas as pd\n",
        "from mip import *\n",
        "import gurobipy as gp\n",
        "from gurobipy import GRB\n",
        "\n",
        "import matplotlib.pyplot as plt\n",
        "from mpl_toolkits.mplot3d import Axes3D\n",
        "import plotly.express as px\n",
        "import plotly.graph_objects as go\n",
        "\n",
        "np.random.seed(42)\n",
        "\n"
      ]
    },
    {
      "cell_type": "markdown",
      "id": "NTR9mVbd6RBP",
      "metadata": {
        "id": "NTR9mVbd6RBP"
      },
      "source": [
        "# Importando Dados"
      ]
    },
    {
      "cell_type": "code",
      "execution_count": null,
      "id": "mkDrnHmD6VDq",
      "metadata": {
        "id": "mkDrnHmD6VDq"
      },
      "outputs": [],
      "source": [
        "df=pd.read_csv('Pasta(Planilha1).csv')\n",
        "df_backup=df.copy()\n",
        "df['destination'] = df['destination'].replace(2, 0)# Substituindo o destino pilha para 0\n",
        "df['horas'] = np.random.uniform(8, 21, size=len(df))#Criando coluna horas aleatoria seguindo uma distribuição normal\n",
        "df['ano'] =0\n",
        "df_backup=df.copy()\n"
      ]
    },
    {
      "cell_type": "markdown",
      "id": "wL8ecYd66bSJ",
      "metadata": {
        "id": "wL8ecYd66bSJ"
      },
      "source": [
        "# Definindo Precedencia de Blocos\n"
      ]
    },
    {
      "cell_type": "code",
      "execution_count": null,
      "id": "yYzBOp_36eKR",
      "metadata": {
        "id": "yYzBOp_36eKR"
      },
      "outputs": [],
      "source": [
        "precedence=df.copy()\n",
        "precedence = precedence.drop(columns=['tonn','blockvalue','destination','CU%','process_profit','Profit','horas','ano'])\n",
        "\n",
        "coords_to_id = {(row['x'], row['y'], row['z']): row['id'] for _, row in precedence.iterrows()}"
      ]
    },
    {
      "cell_type": "code",
      "execution_count": null,
      "id": "KRoAHVQHTPkB",
      "metadata": {
        "id": "KRoAHVQHTPkB"
      },
      "outputs": [],
      "source": [
        "precedence['prec1'] = list(zip(precedence['x'], precedence['y'], precedence['z'] + 1))\n",
        "precedence['prec2'] = list(zip(precedence['x']-1, precedence['y']+1, precedence['z'] + 1))\n",
        "precedence['prec3'] = list(zip(precedence['x']-1, precedence['y'], precedence['z'] + 1))\n",
        "precedence['prec4'] = list(zip(precedence['x']-1, precedence['y']-1, precedence['z'] + 1))\n",
        "precedence['prec5'] = list(zip(precedence['x'], precedence['y']+1, precedence['z'] + 1))\n",
        "precedence['prec6'] = list(zip(precedence['x'], precedence['y']-1, precedence['z'] + 1))\n",
        "precedence['prec7'] = list(zip(precedence['x']+1, precedence['y']+1, precedence['z'] + 1))\n",
        "precedence['prec8'] = list(zip(precedence['x']+1, precedence['y'], precedence['z'] + 1))\n",
        "precedence['prec9'] = list(zip(precedence['x']+1, precedence['y']-1, precedence['z'] + 1))\n"
      ]
    },
    {
      "cell_type": "code",
      "execution_count": null,
      "id": "jp0cJpbUSv1L",
      "metadata": {
        "id": "jp0cJpbUSv1L"
      },
      "outputs": [],
      "source": [
        "def replace_tuple(tuple_value):\n",
        "    return coords_to_id.get(tuple_value, -1)\n",
        "\n",
        "# Aplica a função em todas as colunas 'prec' do DataFrame\n",
        "for col in precedence.columns:\n",
        "    if col.startswith('prec'):\n",
        "        precedence[col] = precedence[col].apply(replace_tuple).astype(int)\n",
        "\n",
        "precedence_backup=precedence.copy()\n",
        "\n"
      ]
    },
    {
      "cell_type": "code",
      "execution_count": null,
      "id": "w71i-tzNuHel",
      "metadata": {
        "id": "w71i-tzNuHel"
      },
      "outputs": [],
      "source": [
        "def apagar_prec(dataframe, lista_numeros):\n",
        "    # Filtra as colunas que começam com 'prec'\n",
        "    colunas_prec = [col for col in dataframe.columns if col.startswith('prec')]\n",
        "\n",
        "    # Substitui os valores nas colunas filtradas de acordo com a lista de números\n",
        "    for coluna in colunas_prec:\n",
        "        dataframe[coluna] = dataframe[coluna].apply(lambda x: -1 if x in lista_numeros else x)\n",
        "\n",
        "    return dataframe"
      ]
    },
    {
      "cell_type": "markdown",
      "id": "kTXmDhjCv219",
      "metadata": {
        "id": "kTXmDhjCv219"
      },
      "source": [
        "# Solver Gurobi\n"
      ]
    },
    {
      "cell_type": "code",
      "execution_count": null,
      "id": "AQWxSuzS-eJv",
      "metadata": {
        "id": "AQWxSuzS-eJv"
      },
      "outputs": [],
      "source": [
        "params = {\n",
        "\"WLSACCESSID\": '9f9c2245-22ce-4d25-9def-efb0a12c39d6',\n",
        "\"WLSSECRET\": '42d0ad98-0a28-4682-99c2-e0346c355ed9',\n",
        "\"LICENSEID\":2519005,\n",
        "'OutputFlag': 0\n",
        "}\n",
        "env = gp.Env(params=params)\n",
        "\n"
      ]
    },
    {
      "cell_type": "code",
      "execution_count": null,
      "id": "OTDuvbzfwkoL",
      "metadata": {
        "id": "OTDuvbzfwkoL"
      },
      "outputs": [],
      "source": [
        "lucro_anual = []\n",
        "\n",
        "# Loop pelos anos\n",
        "while True:\n",
        "    block_id = list(df['id'].values)\n",
        "    destination = list(df['destination'].values)\n",
        "    profit = list(df['Profit'].values)\n",
        "    tonn = list(df['tonn'].values)\n",
        "    horas = list(df['horas'].values)\n",
        "\n",
        "    # Modelo\n",
        "    mine_model = gp.Model(env=env)\n",
        "\n",
        "    # Definindo variáveis\n",
        "    selected = mine_model.addVars(block_id, vtype=GRB.BINARY, name=\"selected\")\n",
        "\n",
        "    # Definindo a função objetivo\n",
        "    mine_model.setObjective(gp.quicksum(selected[i] * profit[i] for i in block_id), GRB.MAXIMIZE)\n",
        "\n",
        "    # Restrições de precedência\n",
        "    for index, row in precedence.iterrows():\n",
        "        for col in precedence.columns:\n",
        "            if col.startswith('prec'):\n",
        "                if row[col] != -1:\n",
        "                    mine_model.addConstr(selected[row[col]] >= selected[row['id']])\n",
        "\n",
        "    # Outras restrições\n",
        "    mine_model.addConstr(gp.quicksum(destination[i] * horas[i] * selected[i] for i in block_id) <= 7884)\n",
        "    mine_model.addConstr(gp.quicksum(destination[i] * tonn[i] * selected[i] for i in block_id) <= 10000000)\n",
        "    mine_model.addConstr(gp.quicksum(horas[i] * selected[i] for i in block_id) <= 80000000)\n",
        "\n",
        "    # Otimizar o modelo\n",
        "    mine_model.optimize()\n",
        "\n",
        "    if mine_model.status == GRB.OPTIMAL and mine_model.ObjVal > 0:\n",
        "        print(\"Valor da função objetivo:\", mine_model.ObjVal)\n",
        "        lucro_anual.append(mine_model.ObjVal)\n",
        "\n",
        "        removidos = []\n",
        "        for index, i in enumerate(block_id):\n",
        "            if selected[i].x > 0.6:  # Verifica se o bloco está selecionado\n",
        "                df.at[index, 'Profit'] = 0  # Define o lucro para 0\n",
        "                df.at[index, 'horas'] = 99999\n",
        "                df.at[index, 'tonn'] = 100000000\n",
        "                removidos.append(df.at[index, 'id'])\n",
        "                if df.at[index, 'ano'] == 0:\n",
        "                    df.at[index, 'ano'] = k + 1  # Define o ano como k + 1\n",
        "\n",
        "        precedence = apagar_prec(precedence, removidos)\n",
        "    else:\n",
        "        break\n",
        "\n",
        "    mine_model.reset()"
      ]
    },
    {
      "cell_type": "code",
      "execution_count": null,
      "id": "8Is05zj2A-6_",
      "metadata": {
        "id": "8Is05zj2A-6_"
      },
      "outputs": [],
      "source": [
        "lucro_anual"
      ]
    },
    {
      "cell_type": "code",
      "execution_count": null,
      "id": "0kfynGhWBM5G",
      "metadata": {
        "id": "0kfynGhWBM5G"
      },
      "outputs": [],
      "source": [
        "vpl = 0\n",
        "for t in range(len(lucro_anual)):\n",
        "    vpl += lucro_anual[t] / ((1 + 0.15) ** t)\n",
        "print(vpl)"
      ]
    },
    {
      "cell_type": "markdown",
      "id": "wb5-vqZ9fq4n",
      "metadata": {
        "id": "wb5-vqZ9fq4n"
      },
      "source": [
        "## Visualizando Sequenciamento"
      ]
    },
    {
      "cell_type": "code",
      "execution_count": null,
      "id": "-m0hd0dfffOf",
      "metadata": {
        "id": "-m0hd0dfffOf"
      },
      "outputs": [],
      "source": [
        "df = df[df['ano'] != 0]\n",
        "\n",
        "unique_years = df['ano'].unique()\n",
        "\n",
        "fig = go.Figure(data=[go.Scatter3d(\n",
        "    x=df['x'],\n",
        "    y=df['y'],\n",
        "    z=df['z'],\n",
        "    mode='markers',\n",
        "    marker=dict(\n",
        "        size=5,\n",
        "        symbol='square',\n",
        "        color=df['ano'],\n",
        "        colorscale='Plasma',\n",
        "        colorbar=dict(\n",
        "            title='Ano de Processamento',\n",
        "            tickvals=unique_years,\n",
        "            ticktext=unique_years\n",
        "        )\n",
        "    ),\n",
        "    text=['Ano: ' + str(year) for year in df['ano']]\n",
        ")])\n",
        "\n",
        "fig.update_layout(\n",
        "    scene=dict(\n",
        "        xaxis_title='X',\n",
        "        yaxis_title='Y',\n",
        "        zaxis_title='Z'\n",
        "    ),\n",
        "    title='Blocos Processados por Ano'\n",
        ")\n",
        "\n",
        "fig.show()"
      ]
    },
    {
      "cell_type": "markdown",
      "id": "Rhj9f1_5fu24",
      "metadata": {
        "id": "Rhj9f1_5fu24"
      },
      "source": [
        "## Histograma"
      ]
    },
    {
      "cell_type": "code",
      "execution_count": null,
      "id": "pvosgJXrfptM",
      "metadata": {
        "id": "pvosgJXrfptM"
      },
      "outputs": [],
      "source": [
        "merged_df = pd.merge(df, df_backup, on='id')\n",
        "\n"
      ]
    },
    {
      "cell_type": "code",
      "execution_count": null,
      "id": "61Pn56Th9TMF",
      "metadata": {
        "id": "61Pn56Th9TMF"
      },
      "outputs": [],
      "source": [
        "df_processados = merged_df.loc[(merged_df['ano_x'] > 0) & (merged_df['destination_x'] == 1)]\n",
        "\n",
        "soma_por_ano_processados = df_processados.groupby('ano_x')['tonn_y'].sum()\n",
        "\n",
        "\n",
        "df_extraidos = merged_df.loc[(merged_df['ano_x'] > 0) ]\n",
        "\n",
        "soma_por_ano_extraidos = df_extraidos.groupby('ano_x')['tonn_y'].sum()\n",
        "\n",
        "anos = sorted(set(soma_por_ano_processados.index) | set(soma_por_ano_extraidos.index))\n",
        "\n",
        "toneladas_processadas = [soma_por_ano_processados.get(ano, 0) for ano in anos]\n",
        "toneladas_extraidas = [soma_por_ano_extraidos.get(ano, 0) for ano in anos]\n",
        "\n",
        "largura_barra = 0.35\n",
        "\n",
        "posicoes = range(len(anos))\n",
        "\n",
        "plt.bar(posicoes, toneladas_processadas, largura_barra, label='Toneladas Processadas na Usina')\n",
        "\n",
        "plt.bar([posicao + largura_barra for posicao in posicoes], toneladas_extraidas, largura_barra, color='orange', label='Toneladas Extraídas na Mina')\n",
        "\n",
        "plt.xlabel('Ano')\n",
        "plt.ylabel('Toneladas')\n",
        "\n",
        "\n",
        "plt.xticks([posicao + largura_barra / 2 for posicao in posicoes], anos)\n",
        "\n",
        "plt.ticklabel_format(style='plain', axis='y')\n",
        "\n",
        "plt.title('Soma das Toneladas Processadas e Extraídas por Ano')\n",
        "\n",
        "plt.legend()\n",
        "\n",
        "plt.show()\n"
      ]
    },
    {
      "cell_type": "code",
      "execution_count": null,
      "id": "4109MKeYCkeQ",
      "metadata": {
        "id": "4109MKeYCkeQ"
      },
      "outputs": [],
      "source": [
        "df_processados = merged_df.loc[(merged_df['ano_x'] > 0) & (merged_df['destination_x'] == 1)]\n",
        "soma_por_ano_processados = df_processados.groupby('ano_x')['tonn_y'].sum()/1000000\n",
        "soma_hora_processados = df_processados.groupby('ano_x')['horas_y'].sum()\n",
        "\n",
        "df_extraidos = merged_df.loc[(merged_df['ano_x'] > 0)]\n",
        "soma_por_ano_extraidos = df_extraidos.groupby('ano_x')['tonn_y'].sum()/1000000\n",
        "\n",
        "anos = sorted(set(soma_por_ano_processados.index) | set(soma_por_ano_extraidos.index))\n",
        "toneladas_processadas = [soma_por_ano_processados.get(ano, 0) for ano in anos]\n",
        "toneladas_extraidas = [soma_por_ano_extraidos.get(ano, 0) for ano in anos]\n",
        "horas_processadas = [soma_hora_processados.get(ano, 0) for ano in anos]\n",
        "\n",
        "largura_barra = 0.35\n",
        "posicoes = range(len(anos))\n",
        "\n",
        "fig, ax1 = plt.subplots(figsize=(12, 6))\n",
        "\n",
        "# Gráfico de barras para toneladas processadas e extraídas\n",
        "barras1 = ax1.bar(posicoes, toneladas_processadas, largura_barra, label='Toneladas Processadas na Usina')\n",
        "barras2 = ax1.bar([posicao + largura_barra for posicao in posicoes], toneladas_extraidas, largura_barra, color='orange', label='Toneladas Extraídas na Mina')\n",
        "\n",
        "# Configurações do eixo x e y para o primeiro gráfico\n",
        "ax1.set_xlabel('Ano')\n",
        "ax1.set_ylabel('Milhões de Toneladas')\n",
        "ax1.set_xticks([posicao + largura_barra / 2 for posicao in posicoes])\n",
        "ax1.set_xticklabels(anos)\n",
        "ax1.ticklabel_format(style='plain', axis='y')\n",
        "ax1.legend(loc='upper left')\n",
        "\n",
        "# Eixo y secundário para horas processadas\n",
        "ax2 = ax1.twinx()\n",
        "barras3 = ax2.plot([posicao + 0.2 for posicao in posicoes], horas_processadas, color='green', marker='o', linestyle='-', label='Horas Processadas')\n",
        "ax2.set_ylabel('Horas Processadas')\n",
        "ax2.set_ylim(0, 15000)\n",
        "\n",
        "ax2.legend(loc='upper right')\n",
        "\n",
        "plt.title('Soma das Toneladas Processadas e Extraídas por Ano e Horas Processadas')\n",
        "fig.tight_layout()\n",
        "plt.show()"
      ]
    },
    {
      "cell_type": "markdown",
      "id": "lapMalKsh3KN",
      "metadata": {
        "id": "lapMalKsh3KN"
      },
      "source": [
        "# Solver CBC"
      ]
    },
    {
      "cell_type": "code",
      "execution_count": null,
      "id": "2QXsMz4Eh-pD",
      "metadata": {
        "id": "2QXsMz4Eh-pD"
      },
      "outputs": [],
      "source": [
        "df=df_backup.copy()\n",
        "precedence=precedence_backup.copy()\n"
      ]
    },
    {
      "cell_type": "code",
      "execution_count": null,
      "id": "1UccA_-Uh_e6",
      "metadata": {
        "id": "1UccA_-Uh_e6"
      },
      "outputs": [],
      "source": [
        "lucro_anual=[]\n",
        "while True:\n",
        "    block_id = list(df['id'].values)\n",
        "    destination = list(df['destination'].values)\n",
        "    profit = list(df['Profit'].values)\n",
        "    tonn=list(df['tonn'].values)\n",
        "    horas = list(df['horas'].values)\n",
        "    # Modelo\n",
        "    mine_model = Model(sense = MAXIMIZE, solver_name=CBC)\n",
        "    mine_model.max_mip_gap=0.05\n",
        "    # Variables\n",
        "    selected = [mine_model.add_var(var_type=BINARY) for i in block_id]\n",
        "    # Objective\n",
        "    mine_model.objective = maximize(xsum( selected[i] * profit[i]for i in block_id))\n",
        "    # Restrições de precedência\n",
        "    for index, row in precedence.iterrows():\n",
        "        for col in precedence.columns:\n",
        "            if col.startswith('prec'):\n",
        "                if row[col] != -1:\n",
        "                    mine_model += selected[row[col]] >= selected[row['id']]\n",
        "    mine_model += xsum(destination[i] * horas[i] * selected[i] for i in block_id) <= 7884\n",
        "    mine_model += xsum(destination[i] *tonn[i] * selected[i]for i in block_id) <= 10000000\n",
        "    mine_model += xsum(tonn[i] * selected[i] for i in block_id) <= 80000000\n",
        "\n",
        "    mine_model.optimize()\n",
        "\n",
        "    if mine_model.status == OptimizationStatus.OPTIMAL and mine_model.objective_value>0:\n",
        "        print(\"Valor da função objetivo:\", mine_model.objective_value)\n",
        "        lucro_anual.append(mine_model.objective_value)\n",
        "\n",
        "        removidos=[]\n",
        "        for index, value in enumerate(selected):\n",
        "            #Altera valores dos blocos para facilitar o modelo decidir blocos selecionados nas próximas iterações aumentando custos das restrições e diminuindo\n",
        "            #o valor objetivo dos blocos\n",
        "            if value.x >0.6:  # Verifica se o bloco está selecionado\n",
        "                df.at[index, 'Profit'] = 0  # Define o lucro para 0\n",
        "                df.at[index, 'horas'] = 99999\n",
        "                df.at[index, 'tonn'] = 100000000\n",
        "                removidos.append( df.at[index, 'id'])\n",
        "\n",
        "                if df.at[index, 'ano']==0:\n",
        "                    df.at[index, 'ano'] = k + 1  # Define o ano como k + 1\n",
        "\n",
        "        precedence=apagar_prec(precedence,removidos)\n",
        "    else:break\n",
        "\n",
        "    mine_model.clear()\n",
        "\n"
      ]
    },
    {
      "cell_type": "code",
      "execution_count": null,
      "id": "uXol5TfGiHeU",
      "metadata": {
        "id": "uXol5TfGiHeU"
      },
      "outputs": [],
      "source": [
        "vpl = 0\n",
        "for t in range(len(lucro_anual)):\n",
        "    vpl += lucro_anual[t] / ((1 + 0.15) ** t)\n",
        "print(vpl)"
      ]
    },
    {
      "cell_type": "markdown",
      "id": "PP52Fk7iiR0o",
      "metadata": {
        "id": "PP52Fk7iiR0o"
      },
      "source": [
        "## Visualizando Sequenciamento"
      ]
    },
    {
      "cell_type": "code",
      "execution_count": null,
      "id": "y8zF48zViUKT",
      "metadata": {
        "id": "y8zF48zViUKT"
      },
      "outputs": [],
      "source": [
        "df = df[df['ano'] != 0]\n",
        "\n",
        "fig = go.Figure(data=[go.Scatter3d(\n",
        "    x=df['x'],\n",
        "    y=df['y'],\n",
        "    z=df['z'],\n",
        "    mode='markers',\n",
        "    marker=dict(\n",
        "        size=5,\n",
        "        color=df['ano'],\n",
        "        colorscale='Plasma',\n",
        "        colorbar=dict(\n",
        "            title='Ano de Processamento',\n",
        "            tickvals=unique_years,\n",
        "            ticktext=unique_years\n",
        "        )\n",
        "    ),\n",
        "    text=['Ano: ' + str(year) for year in df['ano']]\n",
        ")])\n",
        "\n",
        "fig.update_layout(\n",
        "    scene=dict(\n",
        "        xaxis_title='X',\n",
        "        yaxis_title='Y',\n",
        "        zaxis_title='Z'\n",
        "    ),\n",
        "    title='Blocos Processados por Ano'\n",
        ")\n",
        "\n",
        "fig.show()\n"
      ]
    },
    {
      "cell_type": "markdown",
      "id": "Ra5wmYIJiXNz",
      "metadata": {
        "id": "Ra5wmYIJiXNz"
      },
      "source": [
        "## Histogramas"
      ]
    },
    {
      "cell_type": "code",
      "execution_count": null,
      "id": "0UD2zxMpiZMG",
      "metadata": {
        "id": "0UD2zxMpiZMG"
      },
      "outputs": [],
      "source": [
        "merged_df = pd.merge(df, df_backup, on='id')\n",
        "\n"
      ]
    },
    {
      "cell_type": "code",
      "execution_count": null,
      "id": "IvlqXi3midjB",
      "metadata": {
        "id": "IvlqXi3midjB"
      },
      "outputs": [],
      "source": [
        "df_processados = merged_df.loc[(merged_df['ano_x'] > 0) & (merged_df['destination_x'] == 1)]\n",
        "\n",
        "soma_por_ano_processados = df_processados.groupby('ano_x')['tonn_y'].sum()\n",
        "\n",
        "df_extraidos = merged_df.loc[(merged_df['ano_x'] > 0) ]\n",
        "\n",
        "soma_por_ano_extraidos = df_extraidos.groupby('ano_x')['tonn_y'].sum()\n",
        "\n",
        "anos = sorted(set(soma_por_ano_processados.index) | set(soma_por_ano_extraidos.index))\n",
        "\n",
        "toneladas_processadas = [soma_por_ano_processados.get(ano, 0) for ano in anos]\n",
        "toneladas_extraidas = [soma_por_ano_extraidos.get(ano, 0) for ano in anos]\n",
        "\n",
        "largura_barra = 0.35\n",
        "\n",
        "posicoes = range(len(anos))\n",
        "\n",
        "plt.bar(posicoes, toneladas_processadas, largura_barra, label='Toneladas Processadas na Usina')\n",
        "\n",
        "plt.bar([posicao + largura_barra for posicao in posicoes], toneladas_extraidas, largura_barra, color='orange', label='Toneladas Extraídas na Mina')\n",
        "\n",
        "plt.xlabel('Ano')\n",
        "plt.ylabel('Toneladas')\n",
        "\n",
        "\n",
        "plt.xticks([posicao + largura_barra / 2 for posicao in posicoes], anos)\n",
        "\n",
        "plt.ticklabel_format(style='plain', axis='y')\n",
        "\n",
        "plt.title('Soma das Toneladas Processadas e Extraídas por Ano')\n",
        "\n",
        "plt.legend()\n",
        "\n",
        "plt.show()\n"
      ]
    },
    {
      "cell_type": "code",
      "execution_count": null,
      "id": "GKJBvjljChn7",
      "metadata": {
        "id": "GKJBvjljChn7"
      },
      "outputs": [],
      "source": [
        "df_processados = merged_df.loc[(merged_df['ano_x'] > 0) & (merged_df['destination_x'] == 1)]\n",
        "soma_por_ano_processados = df_processados.groupby('ano_x')['tonn_y'].sum()/1000000\n",
        "soma_hora_processados = df_processados.groupby('ano_x')['horas_y'].sum()\n",
        "\n",
        "df_extraidos = merged_df.loc[(merged_df['ano_x'] > 0)]\n",
        "soma_por_ano_extraidos = df_extraidos.groupby('ano_x')['tonn_y'].sum()/1000000\n",
        "\n",
        "anos = sorted(set(soma_por_ano_processados.index) | set(soma_por_ano_extraidos.index))\n",
        "toneladas_processadas = [soma_por_ano_processados.get(ano, 0) for ano in anos]\n",
        "toneladas_extraidas = [soma_por_ano_extraidos.get(ano, 0) for ano in anos]\n",
        "horas_processadas = [soma_hora_processados.get(ano, 0) for ano in anos]\n",
        "\n",
        "largura_barra = 0.35\n",
        "posicoes = range(len(anos))\n",
        "\n",
        "fig, ax1 = plt.subplots(figsize=(12, 6))\n",
        "\n",
        "# Gráfico de barras para toneladas processadas e extraídas\n",
        "barras1 = ax1.bar(posicoes, toneladas_processadas, largura_barra, label='Toneladas Processadas na Usina')\n",
        "barras2 = ax1.bar([posicao + largura_barra for posicao in posicoes], toneladas_extraidas, largura_barra, color='orange', label='Toneladas Extraídas na Mina')\n",
        "\n",
        "# Configurações do eixo x e y para o primeiro gráfico\n",
        "ax1.set_xlabel('Ano')\n",
        "ax1.set_ylabel('Toneladas')\n",
        "ax1.set_xticks([posicao + largura_barra / 2 for posicao in posicoes])\n",
        "ax1.set_xticklabels(anos)\n",
        "ax1.ticklabel_format(style='plain', axis='y')\n",
        "ax1.legend(loc='upper left')\n",
        "\n",
        "# Eixo y secundário para horas processadas\n",
        "ax2 = ax1.twinx()\n",
        "barras3 = ax2.plot([posicao + 0.2 for posicao in posicoes], horas_processadas, color='green', marker='o', linestyle='-', label='Horas Processadas')\n",
        "ax2.set_ylabel('Horas Processadas')\n",
        "ax2.set_ylim(0, 15000)\n",
        "\n",
        "ax2.legend(loc='upper right')\n",
        "\n",
        "plt.title('Soma das Toneladas Processadas e Extraídas por Ano e Horas Processadas')\n",
        "fig.tight_layout()\n",
        "plt.show()"
      ]
    },
    {
      "cell_type": "markdown",
      "id": "O6y_WVLI0Kj1",
      "metadata": {
        "id": "O6y_WVLI0Kj1"
      },
      "source": [
        "# Ano a Ano"
      ]
    },
    {
      "cell_type": "code",
      "execution_count": null,
      "id": "QhmbooGR0JQF",
      "metadata": {
        "id": "QhmbooGR0JQF"
      },
      "outputs": [],
      "source": [
        "unique_years = np.sort(df['ano'].unique())\n",
        "\n",
        "# Criar uma colormap categórica usando ListedColormap\n",
        "num_colors = len(unique_years)\n",
        "cmap = plt.get_cmap('plasma', num_colors)\n",
        "\n",
        "# Criar um subplot para cada ano\n",
        "num_years = len(unique_years)\n",
        "fig = plt.figure(figsize=(15, 5 * num_years))\n",
        "\n",
        "for i, year in enumerate(unique_years):\n",
        "    ax = fig.add_subplot(num_years, 1, i + 1, projection='3d')\n",
        "\n",
        "    # Filtrar o DataFrame para o ano atual\n",
        "    df_year = df[df['ano'] == year]\n",
        "\n",
        "    # Mapear ano para índice de cor\n",
        "    color_index = np.where(unique_years == year)[0][0]\n",
        "\n",
        "    # Plotar os pontos 3D com a cor correspondente ao ano de processamento\n",
        "    sc = ax.scatter(df_year['x'], df_year['y'], df_year['z'], c=[cmap(color_index)] * len(df_year))\n",
        "\n",
        "    # Adicionar rótulos aos eixos\n",
        "    ax.set_xlabel('X')\n",
        "    ax.set_ylabel('Y')\n",
        "    ax.set_zlabel('Z')\n",
        "    ax.set_title(f'Blocos Processados no Ano {year}')\n",
        "\n",
        "\n",
        "\n",
        "# Ajustar o layout\n",
        "plt.tight_layout()\n",
        "plt.show()"
      ]
    },
    {
      "cell_type": "markdown",
      "source": [
        "# HIGHS SOLVER"
      ],
      "metadata": {
        "id": "k0Q734_-Z5Nb"
      },
      "id": "k0Q734_-Z5Nb"
    },
    {
      "cell_type": "code",
      "source": [
        "!pip install pyomo\n",
        "!pip install highspy\n",
        "\n",
        "from pyomo.environ import *\n",
        "from pyomo.contrib.appsi.solvers.highs import Highs"
      ],
      "metadata": {
        "colab": {
          "base_uri": "https://localhost:8080/"
        },
        "id": "_sQTTm75Z48l",
        "outputId": "f8d356d4-85b1-43a0-c2d4-c5ad84ccca3b"
      },
      "id": "_sQTTm75Z48l",
      "execution_count": null,
      "outputs": [
        {
          "output_type": "stream",
          "name": "stdout",
          "text": [
            "Requirement already satisfied: pyomo in /usr/local/lib/python3.10/dist-packages (6.7.2)\n",
            "Requirement already satisfied: ply in /usr/local/lib/python3.10/dist-packages (from pyomo) (3.11)\n",
            "Requirement already satisfied: highspy in /usr/local/lib/python3.10/dist-packages (1.5.3)\n"
          ]
        }
      ]
    },
    {
      "cell_type": "code",
      "source": [
        "df=df_backup.copy()\n",
        "precedence=precedence_backup.copy()\n",
        "anos = df['tonn'].sum() / 10000000\n",
        "anos=int(anos)+1\n",
        "anos"
      ],
      "metadata": {
        "colab": {
          "base_uri": "https://localhost:8080/"
        },
        "id": "35C3cnZqacC0",
        "outputId": "35174e8a-bcac-430f-d4a4-31f7b52a453b"
      },
      "id": "35C3cnZqacC0",
      "execution_count": null,
      "outputs": [
        {
          "output_type": "execute_result",
          "data": {
            "text/plain": [
              "23"
            ]
          },
          "metadata": {},
          "execution_count": 57
        }
      ]
    },
    {
      "cell_type": "code",
      "source": [
        "lucro_anual = []\n",
        "\n",
        "for k in range(anos):\n",
        "    block_id = list(df['id'].values)\n",
        "    destination = list(df['destination'].values)\n",
        "    profit = list(df['Profit'].values)\n",
        "    tonn = list(df['tonn'].values)\n",
        "    horas = list(df['horas'].values)\n",
        "\n",
        "    # Modelo\n",
        "    model = ConcreteModel()\n",
        "\n",
        "    # Conjuntos\n",
        "    model.blocks = Set(initialize=block_id)\n",
        "\n",
        "    # Parâmetros\n",
        "    model.profit = Param(model.blocks, initialize={block_id[i]: profit[i] for i in range(len(block_id))})\n",
        "    model.destination = Param(model.blocks, initialize={block_id[i]: destination[i] for i in range(len(block_id))})\n",
        "    model.tonn = Param(model.blocks, initialize={block_id[i]: tonn[i] for i in range(len(block_id))})\n",
        "    model.horas = Param(model.blocks, initialize={block_id[i]: horas[i] for i in range(len(block_id))})\n",
        "\n",
        "    # Variáveis\n",
        "    model.selected = Var(model.blocks, within=Binary)\n",
        "\n",
        "    # Função objetivo\n",
        "    def objective_rule(model):\n",
        "        return sum(model.selected[i] * model.profit[i] for i in model.blocks)\n",
        "    model.objective = Objective(rule=objective_rule, sense=maximize)\n",
        "\n",
        "    # Restrições de precedência\n",
        "    def precedence_rule(model, i, j):\n",
        "        return model.selected[j] >= model.selected[i]\n",
        "\n",
        "    for index, row in precedence.iterrows():\n",
        "        for col in precedence.columns:\n",
        "            if col.startswith('prec'):\n",
        "                if row[col] != -1:\n",
        "                    model.add_component(f'precedence_{index}_{col}', Constraint(expr=precedence_rule(model, row['id'], row[col])))\n",
        "\n",
        "    # Outras restrições\n",
        "    model.total_hours = Constraint(expr=sum(model.destination[i] * model.horas[i] * model.selected[i] for i in model.blocks) <= 7884)\n",
        "    model.total_tonn = Constraint(expr=sum(model.destination[i] * model.tonn[i] * model.selected[i] for i in model.blocks) <= 10000000)\n",
        "    model.max_hours = Constraint(expr=sum(model.horas[i] * model.selected[i] for i in model.blocks) <= 80000000)\n",
        "\n",
        "    # Resolver o modelo usando HIGHS\n",
        "    solver = SolverFactory('highs')\n",
        "    results = solver.solve(model, tee=True)\n",
        "\n",
        "    if (results.solver.status == SolverStatus.ok) and (results.solver.termination_condition == TerminationCondition.optimal):\n",
        "        obj_value = model.objective()\n",
        "        print(\"Valor da função objetivo:\", obj_value)\n",
        "        lucro_anual.append(obj_value)\n",
        "\n",
        "        removidos = []\n",
        "        for index, i in enumerate(block_id):\n",
        "            if model.selected[i].value > 0.6:  # Verifica se o bloco está selecionado\n",
        "                df.at[index, 'Profit'] = 0  # Define o lucro para 0\n",
        "                df.at[index, 'horas'] = 99999\n",
        "                df.at[index, 'tonn'] = 100000000\n",
        "                removidos.append(df.at[index, 'id'])\n",
        "                if df.at[index, 'ano'] == 0:\n",
        "                    df.at[index, 'ano'] = k + 1  # Define o ano como k + 1\n",
        "\n",
        "        precedence = apagar_prec(precedence, removidos)\n",
        "    else:\n",
        "        break\n",
        "\n",
        "    model = ConcreteModel()  # Reset do modelo"
      ],
      "metadata": {
        "colab": {
          "base_uri": "https://localhost:8080/"
        },
        "id": "wsV8_26babJE",
        "outputId": "cd4cc4a3-c6e7-42fe-cb17-a83f8c33d862"
      },
      "id": "wsV8_26babJE",
      "execution_count": null,
      "outputs": [
        {
          "output_type": "stream",
          "name": "stderr",
          "text": [
            "WARNING:pyomo.opt:Failed to create solver with name 'highs':\n",
            "Failed to set executable for solver asl. File with name=highs either does not exist or it is not executable. To skip this validation, call set_executable with validate=False.\n",
            "Traceback (most recent call last):\n",
            "  File \"/usr/local/lib/python3.10/dist-packages/pyomo/opt/base/solvers.py\", line 162, in __call__\n",
            "    opt = self._cls[_implicit_solvers[mode]](**kwds)\n",
            "  File \"/usr/local/lib/python3.10/dist-packages/pyomo/solvers/plugins/solvers/ASL.py\", line 46, in __init__\n",
            "    SystemCallSolver.__init__(self, **kwds)\n",
            "  File \"/usr/local/lib/python3.10/dist-packages/pyomo/opt/solver/shellcmd.py\", line 66, in __init__\n",
            "    self.set_executable(name=executable, validate=validate)\n",
            "  File \"/usr/local/lib/python3.10/dist-packages/pyomo/opt/solver/shellcmd.py\", line 115, in set_executable\n",
            "    raise ValueError(\n",
            "ValueError: Failed to set executable for solver asl. File with name=highs either does not exist or it is not executable. To skip this validation, call set_executable with validate=False.\n"
          ]
        },
        {
          "output_type": "error",
          "ename": "RuntimeError",
          "evalue": "Attempting to use an unavailable solver.\n\nThe SolverFactory was unable to create the solver \"highs\"\nand returned an UnknownSolver object.  This error is raised at the point\nwhere the UnknownSolver object was used as if it were valid (by calling\nmethod \"solve\").\n\nThe original solver was created with the following parameters:\n\texecutable: highs\n\ttype: highs\n\t_args: ()\n\toptions: {}",
          "traceback": [
            "\u001b[0;31m---------------------------------------------------------------------------\u001b[0m",
            "\u001b[0;31mRuntimeError\u001b[0m                              Traceback (most recent call last)",
            "\u001b[0;32m<ipython-input-58-3a763d682c44>\u001b[0m in \u001b[0;36m<cell line: 3>\u001b[0;34m()\u001b[0m\n\u001b[1;32m     45\u001b[0m     \u001b[0;31m# Resolver o modelo usando HIGHS\u001b[0m\u001b[0;34m\u001b[0m\u001b[0;34m\u001b[0m\u001b[0m\n\u001b[1;32m     46\u001b[0m     \u001b[0msolver\u001b[0m \u001b[0;34m=\u001b[0m \u001b[0mSolverFactory\u001b[0m\u001b[0;34m(\u001b[0m\u001b[0;34m'highs'\u001b[0m\u001b[0;34m)\u001b[0m\u001b[0;34m\u001b[0m\u001b[0;34m\u001b[0m\u001b[0m\n\u001b[0;32m---> 47\u001b[0;31m     \u001b[0mresults\u001b[0m \u001b[0;34m=\u001b[0m \u001b[0msolver\u001b[0m\u001b[0;34m.\u001b[0m\u001b[0msolve\u001b[0m\u001b[0;34m(\u001b[0m\u001b[0mmodel\u001b[0m\u001b[0;34m,\u001b[0m \u001b[0mtee\u001b[0m\u001b[0;34m=\u001b[0m\u001b[0;32mTrue\u001b[0m\u001b[0;34m)\u001b[0m\u001b[0;34m\u001b[0m\u001b[0;34m\u001b[0m\u001b[0m\n\u001b[0m\u001b[1;32m     48\u001b[0m \u001b[0;34m\u001b[0m\u001b[0m\n\u001b[1;32m     49\u001b[0m     \u001b[0;32mif\u001b[0m \u001b[0;34m(\u001b[0m\u001b[0mresults\u001b[0m\u001b[0;34m.\u001b[0m\u001b[0msolver\u001b[0m\u001b[0;34m.\u001b[0m\u001b[0mstatus\u001b[0m \u001b[0;34m==\u001b[0m \u001b[0mSolverStatus\u001b[0m\u001b[0;34m.\u001b[0m\u001b[0mok\u001b[0m\u001b[0;34m)\u001b[0m \u001b[0;32mand\u001b[0m \u001b[0;34m(\u001b[0m\u001b[0mresults\u001b[0m\u001b[0;34m.\u001b[0m\u001b[0msolver\u001b[0m\u001b[0;34m.\u001b[0m\u001b[0mtermination_condition\u001b[0m \u001b[0;34m==\u001b[0m \u001b[0mTerminationCondition\u001b[0m\u001b[0;34m.\u001b[0m\u001b[0moptimal\u001b[0m\u001b[0;34m)\u001b[0m\u001b[0;34m:\u001b[0m\u001b[0;34m\u001b[0m\u001b[0;34m\u001b[0m\u001b[0m\n",
            "\u001b[0;32m/usr/local/lib/python3.10/dist-packages/pyomo/opt/base/solvers.py\u001b[0m in \u001b[0;36msolve\u001b[0;34m(self, *args, **kwds)\u001b[0m\n\u001b[1;32m     97\u001b[0m     \u001b[0;32mdef\u001b[0m \u001b[0msolve\u001b[0m\u001b[0;34m(\u001b[0m\u001b[0mself\u001b[0m\u001b[0;34m,\u001b[0m \u001b[0;34m*\u001b[0m\u001b[0margs\u001b[0m\u001b[0;34m,\u001b[0m \u001b[0;34m**\u001b[0m\u001b[0mkwds\u001b[0m\u001b[0;34m)\u001b[0m\u001b[0;34m:\u001b[0m\u001b[0;34m\u001b[0m\u001b[0;34m\u001b[0m\u001b[0m\n\u001b[1;32m     98\u001b[0m         \u001b[0;34m\"\"\"Perform optimization and return an SolverResults object.\"\"\"\u001b[0m\u001b[0;34m\u001b[0m\u001b[0;34m\u001b[0m\u001b[0m\n\u001b[0;32m---> 99\u001b[0;31m         \u001b[0mself\u001b[0m\u001b[0;34m.\u001b[0m\u001b[0m_solver_error\u001b[0m\u001b[0;34m(\u001b[0m\u001b[0;34m'solve'\u001b[0m\u001b[0;34m)\u001b[0m\u001b[0;34m\u001b[0m\u001b[0;34m\u001b[0m\u001b[0m\n\u001b[0m\u001b[1;32m    100\u001b[0m \u001b[0;34m\u001b[0m\u001b[0m\n\u001b[1;32m    101\u001b[0m     \u001b[0;32mdef\u001b[0m \u001b[0mreset\u001b[0m\u001b[0;34m(\u001b[0m\u001b[0mself\u001b[0m\u001b[0;34m)\u001b[0m\u001b[0;34m:\u001b[0m\u001b[0;34m\u001b[0m\u001b[0;34m\u001b[0m\u001b[0m\n",
            "\u001b[0;32m/usr/local/lib/python3.10/dist-packages/pyomo/opt/base/solvers.py\u001b[0m in \u001b[0;36m_solver_error\u001b[0;34m(self, method_name)\u001b[0m\n\u001b[1;32m    114\u001b[0m \u001b[0;34m\u001b[0m\u001b[0m\n\u001b[1;32m    115\u001b[0m     \u001b[0;32mdef\u001b[0m \u001b[0m_solver_error\u001b[0m\u001b[0;34m(\u001b[0m\u001b[0mself\u001b[0m\u001b[0;34m,\u001b[0m \u001b[0mmethod_name\u001b[0m\u001b[0;34m)\u001b[0m\u001b[0;34m:\u001b[0m\u001b[0;34m\u001b[0m\u001b[0;34m\u001b[0m\u001b[0m\n\u001b[0;32m--> 116\u001b[0;31m         raise RuntimeError(\n\u001b[0m\u001b[1;32m    117\u001b[0m             \"\"\"Attempting to use an unavailable solver.\n\u001b[1;32m    118\u001b[0m \u001b[0;34m\u001b[0m\u001b[0m\n",
            "\u001b[0;31mRuntimeError\u001b[0m: Attempting to use an unavailable solver.\n\nThe SolverFactory was unable to create the solver \"highs\"\nand returned an UnknownSolver object.  This error is raised at the point\nwhere the UnknownSolver object was used as if it were valid (by calling\nmethod \"solve\").\n\nThe original solver was created with the following parameters:\n\texecutable: highs\n\ttype: highs\n\t_args: ()\n\toptions: {}"
          ]
        }
      ]
    }
  ],
  "metadata": {
    "@webio": {
      "lastCommId": null,
      "lastKernelId": null
    },
    "colab": {
      "collapsed_sections": [
        "wL8ecYd66bSJ",
        "Rhj9f1_5fu24",
        "O6y_WVLI0Kj1",
        "N7kwohwn3f5e"
      ],
      "provenance": []
    },
    "hide_input": false,
    "kernelspec": {
      "display_name": "Python 3 (ipykernel)",
      "language": "python",
      "name": "python3"
    },
    "language_info": {
      "codemirror_mode": {
        "name": "ipython",
        "version": 3
      },
      "file_extension": ".py",
      "mimetype": "text/x-python",
      "name": "python",
      "nbconvert_exporter": "python",
      "pygments_lexer": "ipython3",
      "version": "3.11.6"
    }
  },
  "nbformat": 4,
  "nbformat_minor": 5
}